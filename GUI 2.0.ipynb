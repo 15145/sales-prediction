{
 "cells": [
  {
   "cell_type": "code",
   "execution_count": 178,
   "id": "93880499",
   "metadata": {},
   "outputs": [],
   "source": [
    "from tkinter import *\n",
    "import pickle\n"
   ]
  },
  {
   "cell_type": "code",
   "execution_count": 179,
   "id": "a73eb4a6",
   "metadata": {},
   "outputs": [],
   "source": [
    "#Loading the model\n",
    "MODEL_PATH = \"C:\\\\Users\\\\hp\\\\Desktop\\\\multiple_reg.sav\"\n",
    "loaded_model = pickle.load(open(MODEL_PATH, 'rb'))\n"
   ]
  },
  {
   "cell_type": "code",
   "execution_count": 180,
   "id": "2f2b5ec8",
   "metadata": {},
   "outputs": [],
   "source": [
    "#calculating sales input\n",
    "def calculate_sale(arg):\n",
    "    res = loaded_model.predict([[unit_price.get()]])\n",
    "    sale_label.config(text=\"Predicted Sale : {:.2f}/-\".format(res[0][0]))"
   ]
  },
  {
   "cell_type": "code",
   "execution_count": 181,
   "id": "41a50c97",
   "metadata": {},
   "outputs": [
    {
     "data": {
      "text/plain": [
       "''"
      ]
     },
     "execution_count": 181,
     "metadata": {},
     "output_type": "execute_result"
    }
   ],
   "source": [
    "#Initializing the tkinter window\n",
    "master = Tk()\n",
    "master.geometry(\"700x400\")\n",
    "master.configure(background='light blue')\n",
    "master.title('Sales Predicter')"
   ]
  },
  {
   "cell_type": "code",
   "execution_count": 182,
   "id": "ffef05c1",
   "metadata": {},
   "outputs": [],
   "source": [
    "#Label to show the estimated sale\n",
    "sale_label = Label(master, bg='white', fg=\"black\", font=(\"Magneto\", 30, \"bold\"), text=\"Hello Tkinter!\")\n",
    "sale_label.pack(padx=5, pady=20)"
   ]
  },
  {
   "cell_type": "code",
   "execution_count": 183,
   "id": "1ee019e4",
   "metadata": {},
   "outputs": [],
   "source": [
    "\n",
    "\n",
    "unit_price = Scale(master, length=650, label=\"unit price\", bg='grey', fg=\"white\", from_=0, to=2000, orient=VERTICAL , command=calculate_sale)\n",
    "unit_price.set(10)\n",
    "unit_price.pack(padx=5, pady=5)\n",
    "\n"
   ]
  },
  {
   "cell_type": "code",
   "execution_count": null,
   "id": "cb483c67",
   "metadata": {},
   "outputs": [],
   "source": [
    "#Showing the Application\n",
    "mainloop()"
   ]
  },
  {
   "cell_type": "code",
   "execution_count": null,
   "id": "83e929f1",
   "metadata": {},
   "outputs": [],
   "source": []
  }
 ],
 "metadata": {
  "kernelspec": {
   "display_name": "Python 3",
   "language": "python",
   "name": "python3"
  },
  "language_info": {
   "codemirror_mode": {
    "name": "ipython",
    "version": 3
   },
   "file_extension": ".py",
   "mimetype": "text/x-python",
   "name": "python",
   "nbconvert_exporter": "python",
   "pygments_lexer": "ipython3",
   "version": "3.8.8"
  }
 },
 "nbformat": 4,
 "nbformat_minor": 5
}
